{
  "cells": [
    {
      "cell_type": "code",
      "execution_count": 1,
      "metadata": {
        "id": "3ZKMHixqH9gL"
      },
      "outputs": [],
      "source": [
        "# Regresión Líneal Simple\n",
        "# Prediccion de precios de venta\n",
        "\n",
        "# https://github.com/gonzalezgouveia/clases-youtube/tree/main/proyecto-house-price\n",
        "# https://www.youtube.com/watch?v=b7gOUbSmGIY&t=2s"
      ]
    },
    {
      "cell_type": "code",
      "execution_count": 2,
      "metadata": {
        "id": "LHw0PtGM5gVB"
      },
      "outputs": [],
      "source": [
        "# Librerías\n",
        "import pandas as pd\n",
        "import numpy as np\n",
        "import matplotlib.pyplot as plt"
      ]
    },
    {
      "cell_type": "code",
      "execution_count": 3,
      "metadata": {
        "id": "GawW1s19Ggxz"
      },
      "outputs": [],
      "source": [
        "# https://www.kaggle.com/competitions/house-prices-advanced-regression-techniques\n",
        "# Lectura de dataset\n",
        "train = pd.read_csv('./diabetes.csv')"
      ]
    },
    {
      "cell_type": "code",
      "execution_count": 4,
      "metadata": {
        "colab": {
          "base_uri": "https://localhost:8080/",
          "height": 206
        },
        "id": "nRa_xrOCGvzE",
        "outputId": "47183388-b8ea-40ff-cd47-cc004d5706dd"
      },
      "outputs": [
        {
          "data": {
            "text/html": [
              "<div>\n",
              "<style scoped>\n",
              "    .dataframe tbody tr th:only-of-type {\n",
              "        vertical-align: middle;\n",
              "    }\n",
              "\n",
              "    .dataframe tbody tr th {\n",
              "        vertical-align: top;\n",
              "    }\n",
              "\n",
              "    .dataframe thead th {\n",
              "        text-align: right;\n",
              "    }\n",
              "</style>\n",
              "<table border=\"1\" class=\"dataframe\">\n",
              "  <thead>\n",
              "    <tr style=\"text-align: right;\">\n",
              "      <th></th>\n",
              "      <th>AGE</th>\n",
              "      <th>BMI</th>\n",
              "    </tr>\n",
              "  </thead>\n",
              "  <tbody>\n",
              "    <tr>\n",
              "      <th>0</th>\n",
              "      <td>59</td>\n",
              "      <td>32.1</td>\n",
              "    </tr>\n",
              "    <tr>\n",
              "      <th>1</th>\n",
              "      <td>48</td>\n",
              "      <td>21.6</td>\n",
              "    </tr>\n",
              "    <tr>\n",
              "      <th>2</th>\n",
              "      <td>72</td>\n",
              "      <td>30.5</td>\n",
              "    </tr>\n",
              "    <tr>\n",
              "      <th>3</th>\n",
              "      <td>24</td>\n",
              "      <td>25.3</td>\n",
              "    </tr>\n",
              "    <tr>\n",
              "      <th>4</th>\n",
              "      <td>50</td>\n",
              "      <td>23.0</td>\n",
              "    </tr>\n",
              "  </tbody>\n",
              "</table>\n",
              "</div>"
            ],
            "text/plain": [
              "   AGE   BMI\n",
              "0   59  32.1\n",
              "1   48  21.6\n",
              "2   72  30.5\n",
              "3   24  25.3\n",
              "4   50  23.0"
            ]
          },
          "execution_count": 4,
          "metadata": {},
          "output_type": "execute_result"
        }
      ],
      "source": [
        "# Columnas de los datos de estudio\n",
        "train[['AGE','BMI']].head()\n",
        "# X = Area (input) Y = Precio de venta"
      ]
    },
    {
      "cell_type": "code",
      "execution_count": 5,
      "metadata": {
        "colab": {
          "base_uri": "https://localhost:8080/",
          "height": 484
        },
        "id": "UL7_1K2zG1as",
        "outputId": "7c9b2b8e-c27e-49d6-c3a1-96f3daa41ad2"
      },
      "outputs": [
        {
          "data": {
            "image/png": "[encoded data removed]",
            "text/plain": [
              "<Figure size 640x480 with 1 Axes>"
            ]
          },
          "metadata": {},
          "output_type": "display_data"
        }
      ],
      "source": [
        "# Gráfica con los datos de estudio para visualización\n",
        "colors = np.random.rand(50)\n",
        "train.plot.scatter(x='AGE',y='BMI')\n",
        "plt.show()"
      ]
    },
    {
      "cell_type": "code",
      "execution_count": 6,
      "metadata": {
        "colab": {
          "base_uri": "https://localhost:8080/"
        },
        "id": "z_WM_TcCG8AP",
        "outputId": "46eb4465-a8a6-4a10-e5a5-7f47b1f76eec"
      },
      "outputs": [
        {
          "data": {
            "text/plain": [
              "19"
            ]
          },
          "execution_count": 6,
          "metadata": {},
          "output_type": "execute_result"
        }
      ],
      "source": [
        "# Pintar una línea recta sobre los datos\n",
        "\n",
        "# Obtener el mínimo de los datos\n",
        "train['AGE'].min()"
      ]
    },
    {
      "cell_type": "code",
      "execution_count": 7,
      "metadata": {
        "id": "k6b4CSp9G_w-"
      },
      "outputs": [],
      "source": [
        "# Parámetros de la recta\n",
        "# w / m / a\n",
        "w = 0.210\n",
        "b = 8.5"
      ]
    },
    {
      "cell_type": "code",
      "execution_count": 8,
      "metadata": {
        "colab": {
          "base_uri": "https://localhost:8080/",
          "height": 484
        },
        "id": "MH6yXQaAHEnW",
        "outputId": "9ca1e195-96f1-4444-f843-f10e1bba73a5"
      },
      "outputs": [
        {
          "data": {
            "image/png": "[encoded data removed]",
            "text/plain": [
              "<Figure size 640x480 with 1 Axes>"
            ]
          },
          "metadata": {},
          "output_type": "display_data"
        }
      ],
      "source": [
        "# Puntos de la recta\n",
        "x = np.linspace(0,train['AGE'].max(),100)\n",
        "y = w*x+10\n",
        "\n",
        "# Gráfica de la recta\n",
        "train.plot.scatter(x='AGE',y='BMI')\n",
        "plt.plot(x, y, '-r')\n",
        "plt.ylim(b,train['BMI'].max()*1.1)\n",
        "plt.show()"
      ]
    },
    {
      "cell_type": "code",
      "execution_count": 9,
      "metadata": {
        "id": "5p82ypXLHKYB"
      },
      "outputs": [],
      "source": [
        "# Calcular el error  con los parametros elegidos para el modelo"
      ]
    },
    {
      "cell_type": "code",
      "execution_count": 10,
      "metadata": {
        "id": "376AvZxeHMVk"
      },
      "outputs": [],
      "source": [
        "# Cálculo de las predicciones\n",
        "\n",
        "#Pred = Train Dataset * w (125) + b (0)\n",
        "train['pred'] = train['AGE']*w+b"
      ]
    },
    {
      "cell_type": "code",
      "execution_count": 11,
      "metadata": {
        "colab": {
          "base_uri": "https://localhost:8080/",
          "height": 206
        },
        "id": "AiqYLMHfHOY0",
        "outputId": "e19e86df-14f0-4ef7-a158-e38d9396d09e"
      },
      "outputs": [
        {
          "data": {
            "text/html": [
              "<div>\n",
              "<style scoped>\n",
              "    .dataframe tbody tr th:only-of-type {\n",
              "        vertical-align: middle;\n",
              "    }\n",
              "\n",
              "    .dataframe tbody tr th {\n",
              "        vertical-align: top;\n",
              "    }\n",
              "\n",
              "    .dataframe thead th {\n",
              "        text-align: right;\n",
              "    }\n",
              "</style>\n",
              "<table border=\"1\" class=\"dataframe\">\n",
              "  <thead>\n",
              "    <tr style=\"text-align: right;\">\n",
              "      <th></th>\n",
              "      <th>AGE</th>\n",
              "      <th>SEX</th>\n",
              "      <th>BMI</th>\n",
              "      <th>BP</th>\n",
              "      <th>S1</th>\n",
              "      <th>S2</th>\n",
              "      <th>S3</th>\n",
              "      <th>S4</th>\n",
              "      <th>S5</th>\n",
              "      <th>S6</th>\n",
              "      <th>Y</th>\n",
              "      <th>pred</th>\n",
              "      <th>diff</th>\n",
              "      <th>cuad</th>\n",
              "    </tr>\n",
              "  </thead>\n",
              "  <tbody>\n",
              "    <tr>\n",
              "      <th>0</th>\n",
              "      <td>59</td>\n",
              "      <td>2</td>\n",
              "      <td>32.1</td>\n",
              "      <td>101.0</td>\n",
              "      <td>157</td>\n",
              "      <td>93.2</td>\n",
              "      <td>38.0</td>\n",
              "      <td>4.0</td>\n",
              "      <td>4.8598</td>\n",
              "      <td>87</td>\n",
              "      <td>151</td>\n",
              "      <td>20.89</td>\n",
              "      <td>-11.21</td>\n",
              "      <td>125.6641</td>\n",
              "    </tr>\n",
              "    <tr>\n",
              "      <th>1</th>\n",
              "      <td>48</td>\n",
              "      <td>1</td>\n",
              "      <td>21.6</td>\n",
              "      <td>87.0</td>\n",
              "      <td>183</td>\n",
              "      <td>103.2</td>\n",
              "      <td>70.0</td>\n",
              "      <td>3.0</td>\n",
              "      <td>3.8918</td>\n",
              "      <td>69</td>\n",
              "      <td>75</td>\n",
              "      <td>18.58</td>\n",
              "      <td>-3.02</td>\n",
              "      <td>9.1204</td>\n",
              "    </tr>\n",
              "    <tr>\n",
              "      <th>2</th>\n",
              "      <td>72</td>\n",
              "      <td>2</td>\n",
              "      <td>30.5</td>\n",
              "      <td>93.0</td>\n",
              "      <td>156</td>\n",
              "      <td>93.6</td>\n",
              "      <td>41.0</td>\n",
              "      <td>4.0</td>\n",
              "      <td>4.6728</td>\n",
              "      <td>85</td>\n",
              "      <td>141</td>\n",
              "      <td>23.62</td>\n",
              "      <td>-6.88</td>\n",
              "      <td>47.3344</td>\n",
              "    </tr>\n",
              "    <tr>\n",
              "      <th>3</th>\n",
              "      <td>24</td>\n",
              "      <td>1</td>\n",
              "      <td>25.3</td>\n",
              "      <td>84.0</td>\n",
              "      <td>198</td>\n",
              "      <td>131.4</td>\n",
              "      <td>40.0</td>\n",
              "      <td>5.0</td>\n",
              "      <td>4.8903</td>\n",
              "      <td>89</td>\n",
              "      <td>206</td>\n",
              "      <td>13.54</td>\n",
              "      <td>-11.76</td>\n",
              "      <td>138.2976</td>\n",
              "    </tr>\n",
              "    <tr>\n",
              "      <th>4</th>\n",
              "      <td>50</td>\n",
              "      <td>1</td>\n",
              "      <td>23.0</td>\n",
              "      <td>101.0</td>\n",
              "      <td>192</td>\n",
              "      <td>125.4</td>\n",
              "      <td>52.0</td>\n",
              "      <td>4.0</td>\n",
              "      <td>4.2905</td>\n",
              "      <td>80</td>\n",
              "      <td>135</td>\n",
              "      <td>19.00</td>\n",
              "      <td>-4.00</td>\n",
              "      <td>16.0000</td>\n",
              "    </tr>\n",
              "  </tbody>\n",
              "</table>\n",
              "</div>"
            ],
            "text/plain": [
              "   AGE  SEX   BMI     BP   S1     S2    S3   S4      S5  S6    Y   pred  \\\n",
              "0   59    2  32.1  101.0  157   93.2  38.0  4.0  4.8598  87  151  20.89   \n",
              "1   48    1  21.6   87.0  183  103.2  70.0  3.0  3.8918  69   75  18.58   \n",
              "2   72    2  30.5   93.0  156   93.6  41.0  4.0  4.6728  85  141  23.62   \n",
              "3   24    1  25.3   84.0  198  131.4  40.0  5.0  4.8903  89  206  13.54   \n",
              "4   50    1  23.0  101.0  192  125.4  52.0  4.0  4.2905  80  135  19.00   \n",
              "\n",
              "    diff      cuad  \n",
              "0 -11.21  125.6641  \n",
              "1  -3.02    9.1204  \n",
              "2  -6.88   47.3344  \n",
              "3 -11.76  138.2976  \n",
              "4  -4.00   16.0000  "
            ]
          },
          "execution_count": 11,
          "metadata": {},
          "output_type": "execute_result"
        }
      ],
      "source": [
        "# Cálculo de la función de error (ECM = Error Cuadrático Medio)\n",
        "# Avg de errores al cuadrado, es decir, diff entre el estimador y lo que se estima\n",
        "train['diff'] = train['pred']-train['BMI']\n",
        "train['cuad'] = train['diff']**2\n",
        "train.head()"
      ]
    },
    {
      "cell_type": "code",
      "execution_count": 12,
      "metadata": {
        "colab": {
          "base_uri": "https://localhost:8080/"
        },
        "id": "8tMQwlrsHTX8",
        "outputId": "3b38f966-de73-4ec7-ad57-20fd11784e02"
      },
      "outputs": [
        {
          "data": {
            "text/plain": [
              "81.63470927601811"
            ]
          },
          "execution_count": 12,
          "metadata": {},
          "output_type": "execute_result"
        }
      ],
      "source": [
        "# Cálculo del valor ECM\n",
        "train['cuad'].mean()"
      ]
    },
    {
      "cell_type": "code",
      "execution_count": 13,
      "metadata": {
        "colab": {
          "base_uri": "https://localhost:8080/",
          "height": 206
        },
        "id": "BGpdvQc7HWFx",
        "outputId": "15d5e435-3f67-4522-f56a-fa385b3e2960"
      },
      "outputs": [
        {
          "data": {
            "text/html": [
              "<div>\n",
              "<style scoped>\n",
              "    .dataframe tbody tr th:only-of-type {\n",
              "        vertical-align: middle;\n",
              "    }\n",
              "\n",
              "    .dataframe tbody tr th {\n",
              "        vertical-align: top;\n",
              "    }\n",
              "\n",
              "    .dataframe thead th {\n",
              "        text-align: right;\n",
              "    }\n",
              "</style>\n",
              "<table border=\"1\" class=\"dataframe\">\n",
              "  <thead>\n",
              "    <tr style=\"text-align: right;\">\n",
              "      <th></th>\n",
              "      <th>w</th>\n",
              "    </tr>\n",
              "  </thead>\n",
              "  <tbody>\n",
              "    <tr>\n",
              "      <th>0</th>\n",
              "      <td>50.000000</td>\n",
              "    </tr>\n",
              "    <tr>\n",
              "      <th>1</th>\n",
              "      <td>53.061224</td>\n",
              "    </tr>\n",
              "    <tr>\n",
              "      <th>2</th>\n",
              "      <td>56.122449</td>\n",
              "    </tr>\n",
              "    <tr>\n",
              "      <th>3</th>\n",
              "      <td>59.183673</td>\n",
              "    </tr>\n",
              "    <tr>\n",
              "      <th>4</th>\n",
              "      <td>62.244898</td>\n",
              "    </tr>\n",
              "  </tbody>\n",
              "</table>\n",
              "</div>"
            ],
            "text/plain": [
              "           w\n",
              "0  50.000000\n",
              "1  53.061224\n",
              "2  56.122449\n",
              "3  59.183673\n",
              "4  62.244898"
            ]
          },
          "execution_count": 13,
          "metadata": {},
          "output_type": "execute_result"
        }
      ],
      "source": [
        "# Grid de la funcion de error basado en m, b=0\n",
        "# Encontrar un W óptimo\n",
        "w = np.linspace(50,200,50)\n",
        "grid_error = pd.DataFrame(w, columns=['w'])\n",
        "grid_error.head()"
      ]
    },
    {
      "cell_type": "code",
      "execution_count": 14,
      "metadata": {
        "id": "2fLg7H1jHa3b"
      },
      "outputs": [],
      "source": [
        "def sum_error(w, train):\n",
        "    b=0\n",
        "    train['pred'] = train['AGE']*w+b\n",
        "    train['diff'] = train['pred']-train['BMI']\n",
        "    train['cuad'] = train['diff']**2\n",
        "    return(train['cuad'].mean())"
      ]
    },
    {
      "cell_type": "code",
      "execution_count": 15,
      "metadata": {
        "colab": {
          "base_uri": "https://localhost:8080/",
          "height": 206
        },
        "id": "nrU9NiZFHepz",
        "outputId": "bb64a9b7-1817-4c36-e830-d6ae4c353230"
      },
      "outputs": [
        {
          "data": {
            "text/html": [
              "<div>\n",
              "<style scoped>\n",
              "    .dataframe tbody tr th:only-of-type {\n",
              "        vertical-align: middle;\n",
              "    }\n",
              "\n",
              "    .dataframe tbody tr th {\n",
              "        vertical-align: top;\n",
              "    }\n",
              "\n",
              "    .dataframe thead th {\n",
              "        text-align: right;\n",
              "    }\n",
              "</style>\n",
              "<table border=\"1\" class=\"dataframe\">\n",
              "  <thead>\n",
              "    <tr style=\"text-align: right;\">\n",
              "      <th></th>\n",
              "      <th>w</th>\n",
              "      <th>error</th>\n",
              "    </tr>\n",
              "  </thead>\n",
              "  <tbody>\n",
              "    <tr>\n",
              "      <th>0</th>\n",
              "      <td>50.000000</td>\n",
              "      <td>6.185335e+06</td>\n",
              "    </tr>\n",
              "    <tr>\n",
              "      <th>1</th>\n",
              "      <td>53.061224</td>\n",
              "      <td>6.974202e+06</td>\n",
              "    </tr>\n",
              "    <tr>\n",
              "      <th>2</th>\n",
              "      <td>56.122449</td>\n",
              "      <td>7.810402e+06</td>\n",
              "    </tr>\n",
              "    <tr>\n",
              "      <th>3</th>\n",
              "      <td>59.183673</td>\n",
              "      <td>8.693934e+06</td>\n",
              "    </tr>\n",
              "    <tr>\n",
              "      <th>4</th>\n",
              "      <td>62.244898</td>\n",
              "      <td>9.624800e+06</td>\n",
              "    </tr>\n",
              "  </tbody>\n",
              "</table>\n",
              "</div>"
            ],
            "text/plain": [
              "           w         error\n",
              "0  50.000000  6.185335e+06\n",
              "1  53.061224  6.974202e+06\n",
              "2  56.122449  7.810402e+06\n",
              "3  59.183673  8.693934e+06\n",
              "4  62.244898  9.624800e+06"
            ]
          },
          "execution_count": 15,
          "metadata": {},
          "output_type": "execute_result"
        }
      ],
      "source": [
        "grid_error['error']=grid_error['w'].apply(lambda x: sum_error(x, train=train))\n",
        "grid_error.head()"
      ]
    },
    {
      "cell_type": "code",
      "execution_count": 16,
      "metadata": {
        "colab": {
          "base_uri": "https://localhost:8080/",
          "height": 465
        },
        "id": "CHTOfX_7HgFi",
        "outputId": "8f47a5a1-7efc-49d2-8548-fe4f44329e65"
      },
      "outputs": [
        {
          "data": {
            "image/png": "[encoded data removed]",
            "text/plain": [
              "<Figure size 640x480 with 1 Axes>"
            ]
          },
          "metadata": {},
          "output_type": "display_data"
        }
      ],
      "source": [
        "# Hallar el minimo\n",
        "grid_error.plot(x='w',y='error')\n",
        "plt.show()"
      ]
    },
    {
      "cell_type": "code",
      "execution_count": 17,
      "metadata": {
        "colab": {
          "base_uri": "https://localhost:8080/"
        },
        "id": "bEIXtex_Hkx2",
        "outputId": "85317c2d-4f6e-4442-8dad-813e07d0f60a"
      },
      "outputs": [
        {
          "name": "stdout",
          "output_type": "stream",
          "text": [
            "intercepto (b): 0.0\n",
            "pendiente (w): [0.51095511]\n"
          ]
        }
      ],
      "source": [
        "# usando sklear para saber los valores optimos\n",
        "from sklearn.linear_model import LinearRegression\n",
        "\n",
        "# definiendo input y output\n",
        "X_train = np.array(train['AGE']).reshape((-1, 1))\n",
        "Y_train = np.array(train['BMI'])\n",
        "\n",
        "# creando modelo\n",
        "model = LinearRegression(fit_intercept=False)\n",
        "model.fit(X_train, Y_train)\n",
        "\n",
        "# imprimiendo parametros\n",
        "print(f\"intercepto (b): {model.intercept_}\")\n",
        "print(f\"pendiente (w): {model.coef_}\")"
      ]
    }
  ],
  "metadata": {
    "colab": {
      "provenance": []
    },
    "kernelspec": {
      "display_name": "Python 3",
      "name": "python3"
    },
    "language_info": {
      "codemirror_mode": {
        "name": "ipython",
        "version": 3
      },
      "file_extension": ".py",
      "mimetype": "text/x-python",
      "name": "python",
      "nbconvert_exporter": "python",
      "pygments_lexer": "ipython3",
      "version": "3.10.6"
    }
  },
  "nbformat": 4,
  "nbformat_minor": 0
}
